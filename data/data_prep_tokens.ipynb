{
  "nbformat": 4,
  "nbformat_minor": 0,
  "metadata": {
    "colab": {
      "provenance": []
    },
    "kernelspec": {
      "name": "python3",
      "display_name": "Python 3"
    },
    "language_info": {
      "name": "python"
    }
  },
  "cells": [
    {
      "cell_type": "code",
      "source": [
        "import pandas as pd\n",
        "import pickle"
      ],
      "metadata": {
        "id": "TsvK15-4TUHy"
      },
      "execution_count": 1,
      "outputs": []
    },
    {
      "cell_type": "code",
      "execution_count": 2,
      "metadata": {
        "id": "Q6z3zgdjTJLu",
        "colab": {
          "base_uri": "https://localhost:8080/"
        },
        "outputId": "586677f4-fddf-48bb-bc5d-a22bb6d99a24"
      },
      "outputs": [
        {
          "output_type": "stream",
          "name": "stdout",
          "text": [
            "Operators saved successfully.\n"
          ]
        }
      ],
      "source": [
        "# Python Operators (All combined)\n",
        "python_operators = set([\n",
        "    '+', '-', '*', '/', '//', '%', '**',\n",
        "    '==', '!=', '>', '<', '>=', '<=', 'is', 'is not', 'in', 'not in',\n",
        "    'and', 'or', 'not',\n",
        "    '=', '+=', '-=', '*=', '/=', '//=', '%=', '**=',\n",
        "    '&', '|', '^', '~', '<<', '>>',\n",
        "    'is', 'is not',\n",
        "    'in', 'not in'\n",
        "])\n",
        "\n",
        "# Java Operators (All combined)\n",
        "java_operators = set([\n",
        "    '+', '-', '*', '/', '%',\n",
        "    '==', '!=', '>', '<', '>=', '<=',\n",
        "    '&&', '||', '!',\n",
        "    '=', '+=', '-=', '*=', '/=', '%=',\n",
        "    '&', '|', '^', '~', '<<', '>>', '>>>',\n",
        "    '++', '--', '+', '-', '!', '~',\n",
        "    '? :',\n",
        "    '*', '&',\n",
        "    '::',\n",
        "    ','\n",
        "])\n",
        "\n",
        "# C++ Operators (C++11, all combined)\n",
        "cpp_operators = set([\n",
        "    '+', '-', '*', '/', '%',\n",
        "    '==', '!=', '>', '<', '>=', '<=',\n",
        "    '&&', '||', '!',\n",
        "    '=', '+=', '-=', '*=', '/=', '%=', '&=', '|=', '^=', '<<=', '>>=',\n",
        "    '&', '|', '^', '~', '<<', '>>',\n",
        "    '++', '--', '+', '-', '!', '~',\n",
        "    '?:',\n",
        "    '*', '&',\n",
        "    '::',\n",
        "    ','\n",
        "])\n",
        "\n",
        "data = {\n",
        "    \"python_operators\": python_operators,\n",
        "    \"java_operators\": java_operators,\n",
        "    \"cpp_operators\": cpp_operators\n",
        "}\n",
        "\n",
        "with open(\"operators.pkl\", \"wb\") as f:\n",
        "    pickle.dump(data, f)\n",
        "\n",
        "print(\"Operators saved successfully.\")"
      ]
    },
    {
      "cell_type": "code",
      "source": [
        "import keyword\n",
        "\n",
        "#python\n",
        "python_keywords = set(keyword.kwlist)\n",
        "\n",
        "\n",
        "#java\n",
        "java_keywords = {\n",
        "    \"abstract\", \"assert\", \"boolean\", \"break\", \"byte\", \"case\", \"catch\", \"char\", \"class\", \"const\",\n",
        "    \"continue\", \"default\", \"do\", \"double\", \"else\", \"enum\", \"extends\", \"final\", \"finally\", \"float\",\n",
        "    \"for\", \"goto\", \"if\", \"implements\", \"import\", \"instanceof\", \"int\", \"interface\", \"long\", \"native\",\n",
        "    \"new\", \"package\", \"private\", \"protected\", \"public\", \"return\", \"short\", \"static\", \"strictfp\",\n",
        "    \"super\", \"switch\", \"synchronized\", \"this\", \"throw\", \"throws\", \"transient\", \"try\", \"void\",\n",
        "    \"volatile\", \"while\"\n",
        "}\n",
        "\n",
        "cpp_keywords = cpp_keywords = {\n",
        "    \"alignas\", \"alignof\", \"and\", \"and_eq\", \"asm\", \"auto\", \"bitand\", \"bitor\", \"bool\", \"break\",\n",
        "    \"case\", \"catch\", \"char\", \"char16_t\", \"char32_t\", \"class\", \"compl\", \"concept\", \"const\",\n",
        "    \"constexpr\", \"const_cast\", \"continue\", \"decltype\", \"default\", \"delete\", \"do\", \"double\",\n",
        "    \"dynamic_cast\", \"else\", \"enum\", \"explicit\", \"export\", \"extern\", \"false\", \"float\", \"for\",\n",
        "    \"friend\", \"goto\", \"if\", \"inline\", \"int\", \"long\", \"mutable\", \"namespace\", \"new\", \"noexcept\",\n",
        "    \"not\", \"not_eq\", \"nullptr\", \"operator\", \"or\", \"or_eq\", \"private\", \"protected\", \"public\",\n",
        "    \"register\", \"reinterpret_cast\", \"return\", \"short\", \"signed\", \"sizeof\", \"static\", \"static_assert\",\n",
        "    \"static_cast\", \"struct\", \"switch\", \"template\", \"this\", \"thread_local\", \"throw\", \"true\", \"try\",\n",
        "    \"typedef\", \"typeid\", \"typename\", \"union\", \"unsigned\", \"using\", \"virtual\", \"void\", \"volatile\",\n",
        "    \"wchar_t\", \"while\", \"xor\", \"xor_eq\"\n",
        "}\n",
        "\n",
        "data = {\n",
        "    \"python_keywords\": python_keywords,\n",
        "    \"java_keywords\": java_keywords,\n",
        "    \"cpp_keywords\": cpp_keywords\n",
        "}\n",
        "\n",
        "with open(\"keywords.pkl\", \"wb\") as f:\n",
        "    pickle.dump(data, f)\n",
        "\n",
        "print(\"Keywords saved successfully.\")"
      ],
      "metadata": {
        "colab": {
          "base_uri": "https://localhost:8080/"
        },
        "id": "3W7x-9HsUN-I",
        "outputId": "bcce6037-afcc-40d3-a867-d0a89f6b4b8f"
      },
      "execution_count": 3,
      "outputs": [
        {
          "output_type": "stream",
          "name": "stdout",
          "text": [
            "Keywords saved successfully.\n"
          ]
        }
      ]
    }
  ]
}